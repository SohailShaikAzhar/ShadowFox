{
 "cells": [
  {
   "cell_type": "code",
   "execution_count": 13,
   "metadata": {
    "executionInfo": {
     "elapsed": 544,
     "status": "ok",
     "timestamp": 1730377759669,
     "user": {
      "displayName": "vuoyjl iyjkv",
      "userId": "12253369525637559957"
     },
     "user_tz": -330
    },
    "id": "DHbUrYcWKN5x"
   },
   "outputs": [],
   "source": [
    "import numpy as np\n",
    "import pandas as pd\n",
    "import matplotlib.pyplot as plt\n",
    "import re\n",
    "from nltk.corpus import stopwords\n",
    "from nltk.stem.porter import PorterStemmer\n",
    "from sklearn.feature_extraction.text import TfidfVectorizer\n",
    "from sklearn.model_selection import train_test_split\n",
    "from sklearn.linear_model import LogisticRegression\n",
    "from sklearn.metrics import accuracy_score\n",
    "from collections import Counter\n",
    "import numpy as np\n",
    "from sklearn.model_selection import train_test_split"
   ]
  },
  {
   "cell_type": "code",
   "execution_count": 14,
   "metadata": {
    "colab": {
     "base_uri": "https://localhost:8080/"
    },
    "executionInfo": {
     "elapsed": 5,
     "status": "ok",
     "timestamp": 1730377760266,
     "user": {
      "displayName": "vuoyjl iyjkv",
      "userId": "12253369525637559957"
     },
     "user_tz": -330
    },
    "id": "CkWBE72wTgEH",
    "outputId": "73570b3e-34d3-4cf2-b9d4-de838e2a06f7"
   },
   "outputs": [
    {
     "name": "stdout",
     "output_type": "stream",
     "text": [
      "['i', 'me', 'my', 'myself', 'we', 'our', 'ours', 'ourselves', 'you', \"you're\", \"you've\", \"you'll\", \"you'd\", 'your', 'yours', 'yourself', 'yourselves', 'he', 'him', 'his', 'himself', 'she', \"she's\", 'her', 'hers', 'herself', 'it', \"it's\", 'its', 'itself', 'they', 'them', 'their', 'theirs', 'themselves', 'what', 'which', 'who', 'whom', 'this', 'that', \"that'll\", 'these', 'those', 'am', 'is', 'are', 'was', 'were', 'be', 'been', 'being', 'have', 'has', 'had', 'having', 'do', 'does', 'did', 'doing', 'a', 'an', 'the', 'and', 'but', 'if', 'or', 'because', 'as', 'until', 'while', 'of', 'at', 'by', 'for', 'with', 'about', 'against', 'between', 'into', 'through', 'during', 'before', 'after', 'above', 'below', 'to', 'from', 'up', 'down', 'in', 'out', 'on', 'off', 'over', 'under', 'again', 'further', 'then', 'once', 'here', 'there', 'when', 'where', 'why', 'how', 'all', 'any', 'both', 'each', 'few', 'more', 'most', 'other', 'some', 'such', 'no', 'nor', 'not', 'only', 'own', 'same', 'so', 'than', 'too', 'very', 's', 't', 'can', 'will', 'just', 'don', \"don't\", 'should', \"should've\", 'now', 'd', 'll', 'm', 'o', 're', 've', 'y', 'ain', 'aren', \"aren't\", 'couldn', \"couldn't\", 'didn', \"didn't\", 'doesn', \"doesn't\", 'hadn', \"hadn't\", 'hasn', \"hasn't\", 'haven', \"haven't\", 'isn', \"isn't\", 'ma', 'mightn', \"mightn't\", 'mustn', \"mustn't\", 'needn', \"needn't\", 'shan', \"shan't\", 'shouldn', \"shouldn't\", 'wasn', \"wasn't\", 'weren', \"weren't\", 'won', \"won't\", 'wouldn', \"wouldn't\"]\n"
     ]
    },
    {
     "name": "stderr",
     "output_type": "stream",
     "text": [
      "[nltk_data] Downloading package stopwords to C:\\Users\\shabeena\n",
      "[nltk_data]     parveen\\AppData\\Roaming\\nltk_data...\n",
      "[nltk_data]   Package stopwords is already up-to-date!\n"
     ]
    }
   ],
   "source": [
    "import nltk\n",
    "nltk.download('stopwords')\n",
    "print(stopwords.words('english'))"
   ]
  },
  {
   "cell_type": "code",
   "execution_count": 15,
   "metadata": {
    "executionInfo": {
     "elapsed": 406,
     "status": "ok",
     "timestamp": 1730377761086,
     "user": {
      "displayName": "vuoyjl iyjkv",
      "userId": "12253369525637559957"
     },
     "user_tz": -330
    },
    "id": "bDXrfHToVFer"
   },
   "outputs": [],
   "source": [
    "#Loading data from the csv file using pandas\n",
    "X_data=pd.read_csv('X data.csv',encoding='ISO-8859-1')"
   ]
  },
  {
   "cell_type": "code",
   "execution_count": 16,
   "metadata": {
    "colab": {
     "base_uri": "https://localhost:8080/"
    },
    "executionInfo": {
     "elapsed": 4,
     "status": "ok",
     "timestamp": 1730377762223,
     "user": {
      "displayName": "vuoyjl iyjkv",
      "userId": "12253369525637559957"
     },
     "user_tz": -330
    },
    "id": "sZ4oB5OcVdEl",
    "outputId": "a9e5e961-0923-496f-b718-6c20a76a92cb"
   },
   "outputs": [
    {
     "data": {
      "text/plain": [
       "(162980, 2)"
      ]
     },
     "execution_count": 16,
     "metadata": {},
     "output_type": "execute_result"
    }
   ],
   "source": [
    "#Checking number of rows and columns\n",
    "X_data.shape"
   ]
  },
  {
   "cell_type": "code",
   "execution_count": 17,
   "metadata": {
    "colab": {
     "base_uri": "https://localhost:8080/",
     "height": 206
    },
    "executionInfo": {
     "elapsed": 8,
     "status": "ok",
     "timestamp": 1730377763725,
     "user": {
      "displayName": "vuoyjl iyjkv",
      "userId": "12253369525637559957"
     },
     "user_tz": -330
    },
    "id": "ygRuie6cVjgV",
    "outputId": "7a5d1e40-3b7b-49e8-ccf6-5b9c5d1b105f"
   },
   "outputs": [
    {
     "data": {
      "text/html": [
       "<div>\n",
       "<style scoped>\n",
       "    .dataframe tbody tr th:only-of-type {\n",
       "        vertical-align: middle;\n",
       "    }\n",
       "\n",
       "    .dataframe tbody tr th {\n",
       "        vertical-align: top;\n",
       "    }\n",
       "\n",
       "    .dataframe thead th {\n",
       "        text-align: right;\n",
       "    }\n",
       "</style>\n",
       "<table border=\"1\" class=\"dataframe\">\n",
       "  <thead>\n",
       "    <tr style=\"text-align: right;\">\n",
       "      <th></th>\n",
       "      <th>clean_text</th>\n",
       "      <th>category</th>\n",
       "    </tr>\n",
       "  </thead>\n",
       "  <tbody>\n",
       "    <tr>\n",
       "      <th>0</th>\n",
       "      <td>when modi promised âminimum government maxim...</td>\n",
       "      <td>-1.0</td>\n",
       "    </tr>\n",
       "    <tr>\n",
       "      <th>1</th>\n",
       "      <td>talk all the nonsense and continue all the dra...</td>\n",
       "      <td>0.0</td>\n",
       "    </tr>\n",
       "    <tr>\n",
       "      <th>2</th>\n",
       "      <td>what did just say vote for modi  welcome bjp t...</td>\n",
       "      <td>1.0</td>\n",
       "    </tr>\n",
       "    <tr>\n",
       "      <th>3</th>\n",
       "      <td>asking his supporters prefix chowkidar their n...</td>\n",
       "      <td>1.0</td>\n",
       "    </tr>\n",
       "    <tr>\n",
       "      <th>4</th>\n",
       "      <td>answer who among these the most powerful world...</td>\n",
       "      <td>1.0</td>\n",
       "    </tr>\n",
       "  </tbody>\n",
       "</table>\n",
       "</div>"
      ],
      "text/plain": [
       "                                          clean_text  category\n",
       "0  when modi promised âminimum government maxim...      -1.0\n",
       "1  talk all the nonsense and continue all the dra...       0.0\n",
       "2  what did just say vote for modi  welcome bjp t...       1.0\n",
       "3  asking his supporters prefix chowkidar their n...       1.0\n",
       "4  answer who among these the most powerful world...       1.0"
      ]
     },
     "execution_count": 17,
     "metadata": {},
     "output_type": "execute_result"
    }
   ],
   "source": [
    "#Printing firt 5 rows of data\n",
    "X_data.head()"
   ]
  },
  {
   "cell_type": "code",
   "execution_count": 18,
   "metadata": {
    "colab": {
     "base_uri": "https://localhost:8080/",
     "height": 206
    },
    "executionInfo": {
     "elapsed": 443,
     "status": "ok",
     "timestamp": 1730377765822,
     "user": {
      "displayName": "vuoyjl iyjkv",
      "userId": "12253369525637559957"
     },
     "user_tz": -330
    },
    "id": "i20FJA0zVwr6",
    "outputId": "b8506aef-521c-4242-fc35-7402efb8d362"
   },
   "outputs": [
    {
     "data": {
      "text/html": [
       "<div>\n",
       "<style scoped>\n",
       "    .dataframe tbody tr th:only-of-type {\n",
       "        vertical-align: middle;\n",
       "    }\n",
       "\n",
       "    .dataframe tbody tr th {\n",
       "        vertical-align: top;\n",
       "    }\n",
       "\n",
       "    .dataframe thead th {\n",
       "        text-align: right;\n",
       "    }\n",
       "</style>\n",
       "<table border=\"1\" class=\"dataframe\">\n",
       "  <thead>\n",
       "    <tr style=\"text-align: right;\">\n",
       "      <th></th>\n",
       "      <th>TEXT</th>\n",
       "      <th>FLAG</th>\n",
       "    </tr>\n",
       "  </thead>\n",
       "  <tbody>\n",
       "    <tr>\n",
       "      <th>0</th>\n",
       "      <td>clean_text</td>\n",
       "      <td>category</td>\n",
       "    </tr>\n",
       "    <tr>\n",
       "      <th>1</th>\n",
       "      <td>when modi promised âminimum government maxim...</td>\n",
       "      <td>-1</td>\n",
       "    </tr>\n",
       "    <tr>\n",
       "      <th>2</th>\n",
       "      <td>talk all the nonsense and continue all the dra...</td>\n",
       "      <td>0</td>\n",
       "    </tr>\n",
       "    <tr>\n",
       "      <th>3</th>\n",
       "      <td>what did just say vote for modi  welcome bjp t...</td>\n",
       "      <td>1</td>\n",
       "    </tr>\n",
       "    <tr>\n",
       "      <th>4</th>\n",
       "      <td>asking his supporters prefix chowkidar their n...</td>\n",
       "      <td>1</td>\n",
       "    </tr>\n",
       "  </tbody>\n",
       "</table>\n",
       "</div>"
      ],
      "text/plain": [
       "                                                TEXT      FLAG\n",
       "0                                         clean_text  category\n",
       "1  when modi promised âminimum government maxim...        -1\n",
       "2  talk all the nonsense and continue all the dra...         0\n",
       "3  what did just say vote for modi  welcome bjp t...         1\n",
       "4  asking his supporters prefix chowkidar their n...         1"
      ]
     },
     "execution_count": 18,
     "metadata": {},
     "output_type": "execute_result"
    }
   ],
   "source": [
    "#Naming columns and reading data sets again\n",
    "COL_NAMES=['TEXT','FLAG']\n",
    "X_data=pd.read_csv('X data.csv',encoding='ISO-8859-1',names=COL_NAMES)\n",
    "X_data.head()"
   ]
  },
  {
   "cell_type": "code",
   "execution_count": 19,
   "metadata": {
    "colab": {
     "base_uri": "https://localhost:8080/",
     "height": 147
    },
    "executionInfo": {
     "elapsed": 8,
     "status": "ok",
     "timestamp": 1730377767471,
     "user": {
      "displayName": "vuoyjl iyjkv",
      "userId": "12253369525637559957"
     },
     "user_tz": -330
    },
    "id": "ice3yu1yWQiE",
    "outputId": "b208bd11-a9a8-4de9-8e61-c62799441d3c"
   },
   "outputs": [
    {
     "data": {
      "text/plain": [
       "TEXT    4\n",
       "FLAG    7\n",
       "dtype: int64"
      ]
     },
     "execution_count": 19,
     "metadata": {},
     "output_type": "execute_result"
    }
   ],
   "source": [
    "#counting number of missing values in X_data\n",
    "X_data.isnull().sum()"
   ]
  },
  {
   "cell_type": "code",
   "execution_count": 20,
   "metadata": {
    "colab": {
     "base_uri": "https://localhost:8080/",
     "height": 458
    },
    "executionInfo": {
     "elapsed": 424,
     "status": "ok",
     "timestamp": 1730379487471,
     "user": {
      "displayName": "vuoyjl iyjkv",
      "userId": "12253369525637559957"
     },
     "user_tz": -330
    },
    "id": "wscVea7ojBzr",
    "outputId": "162bed3f-3320-400a-cba4-549f9db5d056"
   },
   "outputs": [
    {
     "data": {
      "text/plain": [
       "0                                                clean_text\n",
       "1         when modi promised âminimum government maxim...\n",
       "2         talk all the nonsense and continue all the dra...\n",
       "3         what did just say vote for modi  welcome bjp t...\n",
       "4         asking his supporters prefix chowkidar their n...\n",
       "                                ...                        \n",
       "162976    why these 456 crores paid neerav modi not reco...\n",
       "162977    dear rss terrorist payal gawar what about modi...\n",
       "162978    did you cover her interaction forum where she ...\n",
       "162979    there big project came into india modi dream p...\n",
       "162980    have you ever listen about like gurukul where ...\n",
       "Name: TEXT, Length: 162981, dtype: object"
      ]
     },
     "execution_count": 20,
     "metadata": {},
     "output_type": "execute_result"
    }
   ],
   "source": [
    "#Filling null values with -1\n",
    "X_data=X_data.fillna(-1)\n",
    "X_data['TEXT'].replace(to_replace=\"-1\",value=\"Modi will win\")"
   ]
  },
  {
   "cell_type": "code",
   "execution_count": 21,
   "metadata": {
    "colab": {
     "base_uri": "https://localhost:8080/",
     "height": 542
    },
    "executionInfo": {
     "elapsed": 393,
     "status": "ok",
     "timestamp": 1730379490342,
     "user": {
      "displayName": "vuoyjl iyjkv",
      "userId": "12253369525637559957"
     },
     "user_tz": -330
    },
    "id": "kF2Rp54CYscG",
    "outputId": "10c19cd7-376c-4cd8-ee6a-caf8e040cefe"
   },
   "outputs": [
    {
     "data": {
      "text/plain": [
       "-1                                                                                                                                                                                                                                             4\n",
       "2019                                                                                                                                                                                                                                           2\n",
       "surgical strikes iaf airstrikes inside pakistan satellitekiller missile narendra modis muscular defence policy â¡forbesâ¡                                                                                                                    1\n",
       "space tak pahunch gye aur piddi nahi poch paya  congratulations all those scientists who helped achieve this                                                                                                                                   1\n",
       "sudhir chaudhai didnt pointed out this when modi gave 6000 formers from tax payers money dont say you didnt realised then didnt had courage criticise govt                                                                                     1\n",
       "                                                                                                                                                                                                                                              ..\n",
       "thanks lot modi give brilliant guidance scientist and please also share story when throw apple from tree newton and thn discovered gravity law also whn ran fastr thn light emc2 come existence                                                1\n",
       "modi akhnoor jammu and kashmir what beyond comprehension congress attitude the same congress that sardar patel was part the same congress that netaji subhas chandra bose was part and fought for indias independence                          1\n",
       "its all the nation proves not the modi who acting all those proud indian baat shrey lena dukhad hai                                                                                                                                            1\n",
       "chowkidar ranjan mishra plz will give you follow back will work together for the election campaign favour modi across the country such the people india have placed their trust bjp modi for his new initiatives and development programmes    1\n",
       "new video the newshour debate jds mlas call for violence open threat modi supporters the newshour debate 24th march                                                                                                                            1\n",
       "Name: TEXT, Length: 162977, dtype: int64"
      ]
     },
     "execution_count": 21,
     "metadata": {},
     "output_type": "execute_result"
    }
   ],
   "source": [
    "#checking the distributions of target column\n",
    "X_data['TEXT'].value_counts()"
   ]
  },
  {
   "cell_type": "code",
   "execution_count": 22,
   "metadata": {
    "colab": {
     "base_uri": "https://localhost:8080/",
     "height": 272
    },
    "executionInfo": {
     "elapsed": 420,
     "status": "ok",
     "timestamp": 1730379493227,
     "user": {
      "displayName": "vuoyjl iyjkv",
      "userId": "12253369525637559957"
     },
     "user_tz": -330
    },
    "id": "U-FvtSTWY7m4",
    "outputId": "26e6373f-37e3-46d8-8b5c-d9167bd32724"
   },
   "outputs": [
    {
     "data": {
      "text/plain": [
       "1           72250\n",
       "0           55213\n",
       "-1          35510\n",
       "-1              7\n",
       "category        1\n",
       "Name: FLAG, dtype: int64"
      ]
     },
     "execution_count": 22,
     "metadata": {},
     "output_type": "execute_result"
    }
   ],
   "source": [
    "X_data['FLAG'].value_counts()"
   ]
  },
  {
   "cell_type": "markdown",
   "metadata": {
    "id": "3mzZpCOkZbpK"
   },
   "source": [
    " 0  -->neutral tweet\n",
    " 1  -->positive tweet\n",
    "-1 --> negative tweet\n",
    "\n",
    "Stemming is the process of reducing a word to its root form i.e Swimming to swim. We do this using the porter stemmer function\n"
   ]
  },
  {
   "cell_type": "code",
   "execution_count": 23,
   "metadata": {
    "executionInfo": {
     "elapsed": 4,
     "status": "ok",
     "timestamp": 1730379511577,
     "user": {
      "displayName": "vuoyjl iyjkv",
      "userId": "12253369525637559957"
     },
     "user_tz": -330
    },
    "id": "IRZuMSxtZ2p3"
   },
   "outputs": [],
   "source": [
    "port_stem=PorterStemmer()\n",
    "\n",
    "def stemming(content):\n",
    "    # Convert content to string to handle non-string values\n",
    "    content = str(content)\n",
    "    stemmed_content=re.sub('[^a-zA-Z]',' ',content)\n",
    "    stemmed_content=stemmed_content.lower()\n",
    "    stemmed_content=stemmed_content.split()\n",
    "    # Correct variable name from stemmed_conted to stemmed_content\n",
    "    stemmed_content=[port_stem.stem(word) for word in stemmed_content if not word in stopwords.words('english')]\n",
    "    stemmed_content=' '.join(stemmed_content)\n",
    "\n",
    "    return stemmed_content\n"
   ]
  },
  {
   "cell_type": "code",
   "execution_count": 24,
   "metadata": {
    "executionInfo": {
     "elapsed": 475890,
     "status": "ok",
     "timestamp": 1730379989626,
     "user": {
      "displayName": "vuoyjl iyjkv",
      "userId": "12253369525637559957"
     },
     "user_tz": -330
    },
    "id": "hJuFrTwfaMy8"
   },
   "outputs": [],
   "source": [
    "X_data['STEM_TEXT']=X_data['TEXT'].apply(stemming) #about 6 mins to 15 min complete this execution. huhhh..."
   ]
  },
  {
   "cell_type": "code",
   "execution_count": 25,
   "metadata": {
    "colab": {
     "base_uri": "https://localhost:8080/",
     "height": 206
    },
    "executionInfo": {
     "elapsed": 417,
     "status": "ok",
     "timestamp": 1730381140288,
     "user": {
      "displayName": "vuoyjl iyjkv",
      "userId": "12253369525637559957"
     },
     "user_tz": -330
    },
    "id": "tPS-6bVQa45Z",
    "outputId": "6d0abb47-dc94-4b3b-cada-1c57e72d294c"
   },
   "outputs": [
    {
     "data": {
      "text/html": [
       "<div>\n",
       "<style scoped>\n",
       "    .dataframe tbody tr th:only-of-type {\n",
       "        vertical-align: middle;\n",
       "    }\n",
       "\n",
       "    .dataframe tbody tr th {\n",
       "        vertical-align: top;\n",
       "    }\n",
       "\n",
       "    .dataframe thead th {\n",
       "        text-align: right;\n",
       "    }\n",
       "</style>\n",
       "<table border=\"1\" class=\"dataframe\">\n",
       "  <thead>\n",
       "    <tr style=\"text-align: right;\">\n",
       "      <th></th>\n",
       "      <th>TEXT</th>\n",
       "      <th>FLAG</th>\n",
       "      <th>STEM_TEXT</th>\n",
       "    </tr>\n",
       "  </thead>\n",
       "  <tbody>\n",
       "    <tr>\n",
       "      <th>0</th>\n",
       "      <td>clean_text</td>\n",
       "      <td>category</td>\n",
       "      <td>clean text</td>\n",
       "    </tr>\n",
       "    <tr>\n",
       "      <th>1</th>\n",
       "      <td>when modi promised âminimum government maxim...</td>\n",
       "      <td>-1</td>\n",
       "      <td>modi promis minimum govern maximum govern expe...</td>\n",
       "    </tr>\n",
       "    <tr>\n",
       "      <th>2</th>\n",
       "      <td>talk all the nonsense and continue all the dra...</td>\n",
       "      <td>0</td>\n",
       "      <td>talk nonsens continu drama vote modi</td>\n",
       "    </tr>\n",
       "    <tr>\n",
       "      <th>3</th>\n",
       "      <td>what did just say vote for modi  welcome bjp t...</td>\n",
       "      <td>1</td>\n",
       "      <td>say vote modi welcom bjp told rahul main campa...</td>\n",
       "    </tr>\n",
       "    <tr>\n",
       "      <th>4</th>\n",
       "      <td>asking his supporters prefix chowkidar their n...</td>\n",
       "      <td>1</td>\n",
       "      <td>ask support prefix chowkidar name modi great s...</td>\n",
       "    </tr>\n",
       "  </tbody>\n",
       "</table>\n",
       "</div>"
      ],
      "text/plain": [
       "                                                TEXT      FLAG  \\\n",
       "0                                         clean_text  category   \n",
       "1  when modi promised âminimum government maxim...        -1   \n",
       "2  talk all the nonsense and continue all the dra...         0   \n",
       "3  what did just say vote for modi  welcome bjp t...         1   \n",
       "4  asking his supporters prefix chowkidar their n...         1   \n",
       "\n",
       "                                           STEM_TEXT  \n",
       "0                                         clean text  \n",
       "1  modi promis minimum govern maximum govern expe...  \n",
       "2               talk nonsens continu drama vote modi  \n",
       "3  say vote modi welcom bjp told rahul main campa...  \n",
       "4  ask support prefix chowkidar name modi great s...  "
      ]
     },
     "execution_count": 25,
     "metadata": {},
     "output_type": "execute_result"
    }
   ],
   "source": [
    "#Viewing new data\n",
    "X_data.head()"
   ]
  },
  {
   "cell_type": "code",
   "execution_count": 26,
   "metadata": {
    "colab": {
     "base_uri": "https://localhost:8080/"
    },
    "executionInfo": {
     "elapsed": 388,
     "status": "ok",
     "timestamp": 1730381148542,
     "user": {
      "displayName": "vuoyjl iyjkv",
      "userId": "12253369525637559957"
     },
     "user_tz": -330
    },
    "id": "czGWbphJgZCC",
    "outputId": "4f2c1f48-5848-4c88-f8f3-4ed210a7e606"
   },
   "outputs": [
    {
     "name": "stdout",
     "output_type": "stream",
     "text": [
      "0         category\n",
      "1               -1\n",
      "2                0\n",
      "3                1\n",
      "4                1\n",
      "            ...   \n",
      "162976          -1\n",
      "162977          -1\n",
      "162978           0\n",
      "162979           0\n",
      "162980           1\n",
      "Name: FLAG, Length: 162981, dtype: object\n"
     ]
    }
   ],
   "source": [
    "print(X_data['FLAG'])"
   ]
  },
  {
   "cell_type": "code",
   "execution_count": 27,
   "metadata": {
    "executionInfo": {
     "elapsed": 400,
     "status": "ok",
     "timestamp": 1730381151368,
     "user": {
      "displayName": "vuoyjl iyjkv",
      "userId": "12253369525637559957"
     },
     "user_tz": -330
    },
    "id": "uzBnEtzEgtcS"
   },
   "outputs": [],
   "source": [
    "#seperating data and label\n",
    "X=X_data['STEM_TEXT'].values\n",
    "Y=X_data['FLAG'].values.astype(str)"
   ]
  },
  {
   "cell_type": "code",
   "execution_count": 28,
   "metadata": {
    "colab": {
     "base_uri": "https://localhost:8080/"
    },
    "executionInfo": {
     "elapsed": 426,
     "status": "ok",
     "timestamp": 1730381154178,
     "user": {
      "displayName": "vuoyjl iyjkv",
      "userId": "12253369525637559957"
     },
     "user_tz": -330
    },
    "id": "U_TX7yKGhM1A",
    "outputId": "f845dc21-316a-458f-86a1-5ba5e15ef09c"
   },
   "outputs": [
    {
     "name": "stdout",
     "output_type": "stream",
     "text": [
      "['clean text'\n",
      " 'modi promis minimum govern maximum govern expect begin difficult job reform state take year get justic state busi exit psu templ'\n",
      " 'talk nonsens continu drama vote modi' ... 'cover interact forum left'\n",
      " 'big project came india modi dream project happen realiti'\n",
      " 'ever listen like gurukul disciplin maintain even narendra modi rss maintain cultur indian attack polit someon attack hinduism rss take action proud']\n"
     ]
    }
   ],
   "source": [
    "print(X)"
   ]
  },
  {
   "cell_type": "code",
   "execution_count": 29,
   "metadata": {
    "colab": {
     "base_uri": "https://localhost:8080/"
    },
    "executionInfo": {
     "elapsed": 4,
     "status": "ok",
     "timestamp": 1730381155268,
     "user": {
      "displayName": "vuoyjl iyjkv",
      "userId": "12253369525637559957"
     },
     "user_tz": -330
    },
    "id": "kLZjocGwhN_U",
    "outputId": "73fd24b9-04d5-4b62-ff1e-1e24f8824d16"
   },
   "outputs": [
    {
     "name": "stdout",
     "output_type": "stream",
     "text": [
      "['category' '-1' '0' ... '0' '0' '1']\n"
     ]
    }
   ],
   "source": [
    "print(Y)"
   ]
  },
  {
   "cell_type": "code",
   "execution_count": 30,
   "metadata": {
    "executionInfo": {
     "elapsed": 4,
     "status": "ok",
     "timestamp": 1730381156356,
     "user": {
      "displayName": "vuoyjl iyjkv",
      "userId": "12253369525637559957"
     },
     "user_tz": -330
    },
    "id": "qguNbOd6l6Qx"
   },
   "outputs": [],
   "source": [
    "# Calculate class distribution\n",
    "class_distribution = Counter(Y)\n",
    "\n",
    "# Find classes with only one sample\n",
    "classes_to_remove = [cls for cls, count in class_distribution.items() if count < 2]\n",
    "\n",
    "# Remove samples belonging to the under-represented classes\n",
    "mask = ~np.isin(Y, classes_to_remove)\n",
    "X = X[mask]\n",
    "Y = Y[mask]"
   ]
  },
  {
   "cell_type": "code",
   "execution_count": 31,
   "metadata": {
    "executionInfo": {
     "elapsed": 17,
     "status": "ok",
     "timestamp": 1730379989627,
     "user": {
      "displayName": "vuoyjl iyjkv",
      "userId": "12253369525637559957"
     },
     "user_tz": -330
    },
    "id": "-xRn3ZSmhPJF"
   },
   "outputs": [],
   "source": [
    "#SPLITTING DATA TO TRAIN AND TEST\n",
    "X_train,X_test,Y_train,Y_test=train_test_split(X,Y,test_size=0.2,stratify=Y,random_state=2)"
   ]
  },
  {
   "cell_type": "code",
   "execution_count": 32,
   "metadata": {
    "colab": {
     "base_uri": "https://localhost:8080/"
    },
    "executionInfo": {
     "elapsed": 17,
     "status": "ok",
     "timestamp": 1730379989627,
     "user": {
      "displayName": "vuoyjl iyjkv",
      "userId": "12253369525637559957"
     },
     "user_tz": -330
    },
    "id": "PHbOjbLZiRx1",
    "outputId": "0f05ba0c-71c0-4782-efc9-e4ef3b6ac1fb"
   },
   "outputs": [
    {
     "name": "stdout",
     "output_type": "stream",
     "text": [
      "(162980,) (130384,) (32596,)\n"
     ]
    }
   ],
   "source": [
    "print(X.shape,Y_train.shape,X_test.shape)"
   ]
  },
  {
   "cell_type": "code",
   "execution_count": 33,
   "metadata": {
    "colab": {
     "base_uri": "https://localhost:8080/"
    },
    "executionInfo": {
     "elapsed": 15,
     "status": "ok",
     "timestamp": 1730379989628,
     "user": {
      "displayName": "vuoyjl iyjkv",
      "userId": "12253369525637559957"
     },
     "user_tz": -330
    },
    "id": "ouoc9E5amlWz",
    "outputId": "bd90210a-822c-4000-e8ea-d1b7a2f01900"
   },
   "outputs": [
    {
     "name": "stdout",
     "output_type": "stream",
     "text": [
      "['kaha tha nachoron sarkarscamist parti hai modi ruin countri dont forget vote'\n",
      " 'chines citizen power right speak'\n",
      " 'missil defenc india strengthen modi govern' ...\n",
      " 'pm narasimha rao communist lack vision like communist includ shastri moraji desai today due vajpaye narendra modi other lack vision decis'\n",
      " 'smita prakash modi fangirl would modi without ani would ani without modi'\n",
      " 'lok sabha elect campaign live make sure rahul defeat say prakash karat financialxpress']\n"
     ]
    }
   ],
   "source": [
    "print(X_train)"
   ]
  },
  {
   "cell_type": "code",
   "execution_count": 34,
   "metadata": {
    "colab": {
     "base_uri": "https://localhost:8080/"
    },
    "executionInfo": {
     "elapsed": 10,
     "status": "ok",
     "timestamp": 1730379989628,
     "user": {
      "displayName": "vuoyjl iyjkv",
      "userId": "12253369525637559957"
     },
     "user_tz": -330
    },
    "id": "XUyOhYdnmpPE",
    "outputId": "b225cbd8-3f02-49b4-e854-189e674b320e"
   },
   "outputs": [
    {
     "name": "stdout",
     "output_type": "stream",
     "text": [
      "['modi anti nation lie creat commun divid mislead manipul data'\n",
      " 'jaya pradha join bjp convass goten shorten amount also popular bjp big rich leader bythat famou cine field enjoy modi also'\n",
      " 'power popular leadership modi one tweet whole countri goe desper' ... ''\n",
      " 'modi address massiv ralli kurnool andhra pradesh via namo app'\n",
      " 'watch video voic whatsapp section volunt modul narendra modi app']\n"
     ]
    }
   ],
   "source": [
    "print(X_test)"
   ]
  },
  {
   "cell_type": "code",
   "execution_count": 35,
   "metadata": {
    "executionInfo": {
     "elapsed": 3266,
     "status": "ok",
     "timestamp": 1730381169267,
     "user": {
      "displayName": "vuoyjl iyjkv",
      "userId": "12253369525637559957"
     },
     "user_tz": -330
    },
    "id": "-PUDAikKmrD_"
   },
   "outputs": [
    {
     "ename": "NameError",
     "evalue": "name 'X_text' is not defined",
     "output_type": "error",
     "traceback": [
      "\u001b[1;31m---------------------------------------------------------------------------\u001b[0m",
      "\u001b[1;31mNameError\u001b[0m                                 Traceback (most recent call last)",
      "\u001b[1;32m~\\AppData\\Local\\Temp/ipykernel_15068/1729693583.py\u001b[0m in \u001b[0;36m<module>\u001b[1;34m\u001b[0m\n\u001b[0;32m      2\u001b[0m \u001b[0mvectorizer\u001b[0m\u001b[1;33m=\u001b[0m\u001b[0mTfidfVectorizer\u001b[0m\u001b[1;33m(\u001b[0m\u001b[0mlowercase\u001b[0m\u001b[1;33m=\u001b[0m\u001b[1;32mFalse\u001b[0m\u001b[1;33m)\u001b[0m\u001b[1;33m\u001b[0m\u001b[0m\n\u001b[0;32m      3\u001b[0m \u001b[1;31m# Fit and transform the original text data 'X_text' (assuming this is your original text data variable)\u001b[0m\u001b[1;33m\u001b[0m\u001b[1;33m\u001b[0m\u001b[0m\n\u001b[1;32m----> 4\u001b[1;33m \u001b[0mX\u001b[0m \u001b[1;33m=\u001b[0m \u001b[0mvectorizer\u001b[0m\u001b[1;33m.\u001b[0m\u001b[0mfit_transform\u001b[0m\u001b[1;33m(\u001b[0m\u001b[0mX_text\u001b[0m\u001b[1;33m)\u001b[0m\u001b[1;33m\u001b[0m\u001b[0m\n\u001b[0m\u001b[0;32m      5\u001b[0m \u001b[1;31m# Now transform the training and testing sets using the fitted vectorizer\u001b[0m\u001b[1;33m\u001b[0m\u001b[1;33m\u001b[0m\u001b[0m\n\u001b[0;32m      6\u001b[0m \u001b[0mX_train\u001b[0m\u001b[1;33m=\u001b[0m\u001b[0mvectorizer\u001b[0m\u001b[1;33m.\u001b[0m\u001b[0mtransform\u001b[0m\u001b[1;33m(\u001b[0m\u001b[0mX_train\u001b[0m\u001b[1;33m)\u001b[0m\u001b[1;33m\u001b[0m\u001b[0m\n",
      "\u001b[1;31mNameError\u001b[0m: name 'X_text' is not defined"
     ]
    }
   ],
   "source": [
    "#Converting textual Data to numerical data\n",
    "vectorizer=TfidfVectorizer(lowercase=False)\n",
    "# Fit and transform the original text data 'X_text' (assuming this is your original text data variable)\n",
    "X = vectorizer.fit_transform(X_text)\n",
    "# Now transform the training and testing sets using the fitted vectorizer\n",
    "X_train=vectorizer.transform(X_train)\n",
    "X_test=vectorizer.transform(X_test)\n"
   ]
  },
  {
   "cell_type": "code",
   "execution_count": 119,
   "metadata": {
    "colab": {
     "base_uri": "https://localhost:8080/"
    },
    "executionInfo": {
     "elapsed": 429,
     "status": "ok",
     "timestamp": 1730381212240,
     "user": {
      "displayName": "vuoyjl iyjkv",
      "userId": "12253369525637559957"
     },
     "user_tz": -330
    },
    "id": "DixxVkKHnT8T",
    "outputId": "913e641c-636a-4b18-e37e-bc118aaa659b"
   },
   "outputs": [
    {
     "name": "stdout",
     "output_type": "stream",
     "text": [
      "  (0, 5877)\t0.23211504791694398\n",
      "  (0, 7538)\t0.23548945446948935\n",
      "  (0, 9418)\t0.354204268832559\n",
      "  (0, 10840)\t0.2753084460429206\n",
      "  (0, 13783)\t0.47083934854041315\n",
      "  (0, 16942)\t0.06500689091180703\n",
      "  (0, 19727)\t0.25053561795816454\n",
      "  (0, 22855)\t0.4318397312580794\n",
      "  (0, 26449)\t0.4087484798215461\n",
      "  (0, 28611)\t0.2171804773161407\n",
      "  (1, 4756)\t0.5918469474568181\n",
      "  (1, 5044)\t0.4551164112905416\n",
      "  (1, 20743)\t0.3366327029443095\n",
      "  (1, 22610)\t0.3759564931415472\n",
      "  (1, 25003)\t0.4334989983070124\n",
      "  (2, 6582)\t0.5300020214201105\n",
      "  (2, 10358)\t0.35074894432798903\n",
      "  (2, 12299)\t0.23366050593559784\n",
      "  (2, 16809)\t0.43637908746264226\n",
      "  (2, 16942)\t0.0916516983467352\n",
      "  (2, 25434)\t0.5853623335377406\n",
      "  (3, 405)\t0.2523482267005551\n",
      "  (3, 3567)\t0.35357562788310454\n",
      "  (3, 8468)\t0.2191756447841152\n",
      "  (3, 8638)\t0.5081332140365633\n",
      "  :\t:\n",
      "  (130381, 21875)\t0.23022080815445803\n",
      "  (130381, 24083)\t0.25638451452365046\n",
      "  (130381, 26956)\t0.13746263513427678\n",
      "  (130381, 28173)\t0.20083845408518594\n",
      "  (130381, 28539)\t0.3585143380350224\n",
      "  (130382, 1140)\t0.5902580758686817\n",
      "  (130382, 8875)\t0.37522459976450834\n",
      "  (130382, 16942)\t0.12281166280105922\n",
      "  (130382, 20820)\t0.31199308145928956\n",
      "  (130382, 24710)\t0.3647377075919171\n",
      "  (130382, 29193)\t0.3930048745543684\n",
      "  (130382, 29344)\t0.33300614024675346\n",
      "  (130383, 4076)\t0.22549246814283908\n",
      "  (130383, 6574)\t0.2608135213898228\n",
      "  (130383, 8051)\t0.16215926088637278\n",
      "  (130383, 9165)\t0.43666985999467206\n",
      "  (130383, 13931)\t0.4285314472717363\n",
      "  (130383, 15275)\t0.21640635333884672\n",
      "  (130383, 15360)\t0.25961397199213104\n",
      "  (130383, 15839)\t0.18627600953805795\n",
      "  (130383, 20820)\t0.38204335439728315\n",
      "  (130383, 21659)\t0.18595018555306403\n",
      "  (130383, 22961)\t0.2584458163033459\n",
      "  (130383, 23449)\t0.16610043871510108\n",
      "  (130383, 25794)\t0.23804619772332206\n"
     ]
    }
   ],
   "source": [
    "print(X_train)"
   ]
  },
  {
   "cell_type": "code",
   "execution_count": 120,
   "metadata": {
    "colab": {
     "base_uri": "https://localhost:8080/"
    },
    "executionInfo": {
     "elapsed": 555,
     "status": "ok",
     "timestamp": 1730381216351,
     "user": {
      "displayName": "vuoyjl iyjkv",
      "userId": "12253369525637559957"
     },
     "user_tz": -330
    },
    "id": "MIU0HUErwbRI",
    "outputId": "e916572d-bdbe-40dc-b414-a747feede56d"
   },
   "outputs": [
    {
     "name": "stdout",
     "output_type": "stream",
     "text": [
      "  (0, 1230)\t0.26958717265727083\n",
      "  (0, 5360)\t0.3121892578044157\n",
      "  (0, 6004)\t0.2877293106675747\n",
      "  (0, 6386)\t0.3445650741673561\n",
      "  (0, 7407)\t0.3619912275820138\n",
      "  (0, 15163)\t0.2895043909183832\n",
      "  (0, 16023)\t0.44650548079773944\n",
      "  (0, 16789)\t0.41099085054222745\n",
      "  (0, 16942)\t0.05972087114921265\n",
      "  (0, 18019)\t0.20408265440005308\n",
      "  (1, 909)\t0.24233964199864133\n",
      "  (1, 1018)\t0.1940119208092101\n",
      "  (1, 3142)\t0.14963154522697322\n",
      "  (1, 3273)\t0.19966985781677263\n",
      "  (1, 4013)\t0.3035493266924947\n",
      "  (1, 5018)\t0.3035493266924947\n",
      "  (1, 5740)\t0.3035493266924947\n",
      "  (1, 8257)\t0.18786060786814415\n",
      "  (1, 8859)\t0.2158496436901553\n",
      "  (1, 9107)\t0.2003429948755047\n",
      "  (1, 10342)\t0.3035493266924947\n",
      "  (1, 13257)\t0.24283093573712491\n",
      "  (1, 13578)\t0.16215342950663475\n",
      "  (1, 14945)\t0.1276272236408723\n",
      "  (1, 16942)\t0.03186232085438606\n",
      "  :\t:\n",
      "  (32592, 23569)\t0.39236097060969066\n",
      "  (32592, 23918)\t0.39236097060969066\n",
      "  (32592, 24964)\t0.16872467473369665\n",
      "  (32592, 25723)\t0.22384292133048414\n",
      "  (32592, 26234)\t0.21329268036979332\n",
      "  (32594, 405)\t0.2572984313499474\n",
      "  (32594, 1106)\t0.3839118348072669\n",
      "  (32594, 1396)\t0.31007248344097077\n",
      "  (32594, 14649)\t0.45649845172633596\n",
      "  (32594, 16203)\t0.3686756673788957\n",
      "  (32594, 16942)\t0.05947675840780109\n",
      "  (32594, 17905)\t0.28432703479309335\n",
      "  (32594, 20803)\t0.3451404640437686\n",
      "  (32594, 21798)\t0.28523238717232124\n",
      "  (32594, 28371)\t0.24716975759466478\n",
      "  (32595, 1396)\t0.27895174324173294\n",
      "  (32595, 16942)\t0.053507313051794896\n",
      "  (32595, 17232)\t0.4767332578224748\n",
      "  (32595, 17969)\t0.1762845855602194\n",
      "  (32595, 23700)\t0.3469172423358947\n",
      "  (32595, 28397)\t0.27296612439328555\n",
      "  (32595, 28589)\t0.3263140040976818\n",
      "  (32595, 28601)\t0.39772489655740606\n",
      "  (32595, 28827)\t0.24696891876614663\n",
      "  (32595, 29002)\t0.37476711518967865\n"
     ]
    }
   ],
   "source": [
    "print(X_test)"
   ]
  },
  {
   "cell_type": "code",
   "execution_count": 127,
   "metadata": {
    "colab": {
     "base_uri": "https://localhost:8080/"
    },
    "executionInfo": {
     "elapsed": 18458,
     "status": "ok",
     "timestamp": 1730381487717,
     "user": {
      "displayName": "vuoyjl iyjkv",
      "userId": "12253369525637559957"
     },
     "user_tz": -330
    },
    "id": "_ZkxJjR-wfXN",
    "outputId": "9da54aea-77ef-423c-e9e4-5dbfa83badf0"
   },
   "outputs": [
    {
     "name": "stderr",
     "output_type": "stream",
     "text": [
      "/usr/local/lib/python3.10/dist-packages/sklearn/linear_model/_logistic.py:469: ConvergenceWarning: lbfgs failed to converge (status=1):\n",
      "STOP: TOTAL NO. of ITERATIONS REACHED LIMIT.\n",
      "\n",
      "Increase the number of iterations (max_iter) or scale the data as shown in:\n",
      "    https://scikit-learn.org/stable/modules/preprocessing.html\n",
      "Please also refer to the documentation for alternative solver options:\n",
      "    https://scikit-learn.org/stable/modules/linear_model.html#logistic-regression\n",
      "  n_iter_i = _check_optimize_result(\n"
     ]
    }
   ],
   "source": [
    "#Training the Machine learning model\n",
    "model=LogisticRegression()\n",
    "model.fit(X_train,Y_train)\n"
   ]
  },
  {
   "cell_type": "code",
   "execution_count": 129,
   "metadata": {
    "executionInfo": {
     "elapsed": 402,
     "status": "ok",
     "timestamp": 1730381500305,
     "user": {
      "displayName": "vuoyjl iyjkv",
      "userId": "12253369525637559957"
     },
     "user_tz": -330
    },
    "id": "N4ravp_Jw16Q"
   },
   "outputs": [],
   "source": [
    "#Model Evaluation accurace on traininf data\n",
    "X_train_prediction  = model.predict(X_train)\n",
    "training_data_accuracy=accuracy_score(Y_train,X_train_prediction)"
   ]
  },
  {
   "cell_type": "code",
   "execution_count": 130,
   "metadata": {
    "colab": {
     "base_uri": "https://localhost:8080/"
    },
    "executionInfo": {
     "elapsed": 425,
     "status": "ok",
     "timestamp": 1730381563749,
     "user": {
      "displayName": "vuoyjl iyjkv",
      "userId": "12253369525637559957"
     },
     "user_tz": -330
    },
    "id": "RYJhQpzFxP4z",
    "outputId": "fc5bed7a-c522-4242-ccad-5f43b1c5c791"
   },
   "outputs": [
    {
     "name": "stdout",
     "output_type": "stream",
     "text": [
      "Accuracy score on the training Data: 0.8684807951895939\n"
     ]
    }
   ],
   "source": [
    "print('Accuracy score on the training Data:',training_data_accuracy)"
   ]
  },
  {
   "cell_type": "markdown",
   "metadata": {
    "id": "rPsA_OAT23UG"
   },
   "source": [
    "**Testing Data** Accuracy = 86.84%"
   ]
  },
  {
   "cell_type": "code",
   "execution_count": 137,
   "metadata": {
    "executionInfo": {
     "elapsed": 420,
     "status": "ok",
     "timestamp": 1730381847490,
     "user": {
      "displayName": "vuoyjl iyjkv",
      "userId": "12253369525637559957"
     },
     "user_tz": -330
    },
    "id": "GNBhDnkPx0M9"
   },
   "outputs": [],
   "source": [
    "#Model Evaluation accurace on training data\n",
    "X_test_prediction  = model.predict(X_test)\n",
    "test_data_accuracy=accuracy_score(Y_test,X_test_prediction)"
   ]
  },
  {
   "cell_type": "code",
   "execution_count": 138,
   "metadata": {
    "colab": {
     "base_uri": "https://localhost:8080/"
    },
    "executionInfo": {
     "elapsed": 407,
     "status": "ok",
     "timestamp": 1730381851378,
     "user": {
      "displayName": "vuoyjl iyjkv",
      "userId": "12253369525637559957"
     },
     "user_tz": -330
    },
    "id": "jy8Dw1EUyNjH",
    "outputId": "eac2ed95-c50c-47d4-f8fb-8303773572e9"
   },
   "outputs": [
    {
     "name": "stdout",
     "output_type": "stream",
     "text": [
      "Accuracy score on the training Data: 0.8392747576389741\n"
     ]
    }
   ],
   "source": [
    "print('Accuracy score on the training Data:',test_data_accuracy)"
   ]
  },
  {
   "cell_type": "markdown",
   "metadata": {
    "id": "JPC-zzK6zELQ"
   },
   "source": [
    "**Model Accuracy**= 83.92%\n",
    "\n",
    "We are saving this model to be used for later to use model directily without having to train multiple times! using the pickle library!!!\n",
    "\n",
    "\n"
   ]
  },
  {
   "cell_type": "code",
   "execution_count": 139,
   "metadata": {
    "executionInfo": {
     "elapsed": 461,
     "status": "ok",
     "timestamp": 1730381988707,
     "user": {
      "displayName": "vuoyjl iyjkv",
      "userId": "12253369525637559957"
     },
     "user_tz": -330
    },
    "id": "QaIaptI9yrep"
   },
   "outputs": [],
   "source": [
    "import pickle"
   ]
  },
  {
   "cell_type": "code",
   "execution_count": 141,
   "metadata": {
    "executionInfo": {
     "elapsed": 422,
     "status": "ok",
     "timestamp": 1730382617577,
     "user": {
      "displayName": "vuoyjl iyjkv",
      "userId": "12253369525637559957"
     },
     "user_tz": -330
    },
    "id": "QC6_knpHzb8o"
   },
   "outputs": [],
   "source": [
    "#Saving the pretrained model to a .sav file using Pickle moduld\n",
    "filename='trained_model.sav'\n",
    "pickle.dump(model,open(filename,'wb'))"
   ]
  },
  {
   "cell_type": "code",
   "execution_count": 149,
   "metadata": {
    "executionInfo": {
     "elapsed": 448,
     "status": "ok",
     "timestamp": 1730382865049,
     "user": {
      "displayName": "vuoyjl iyjkv",
      "userId": "12253369525637559957"
     },
     "user_tz": -330
    },
    "id": "viw_sdf711fm"
   },
   "outputs": [],
   "source": []
  },
  {
   "cell_type": "code",
   "execution_count": null,
   "metadata": {
    "id": "St8aTT6D2f-f"
   },
   "outputs": [],
   "source": []
  }
 ],
 "metadata": {
  "colab": {
   "authorship_tag": "ABX9TyMvJRChs8NTMY99lRLJ8Ius",
   "provenance": []
  },
  "kernelspec": {
   "display_name": "Python 3",
   "name": "python3"
  },
  "language_info": {
   "codemirror_mode": {
    "name": "ipython",
    "version": 3
   },
   "file_extension": ".py",
   "mimetype": "text/x-python",
   "name": "python",
   "nbconvert_exporter": "python",
   "pygments_lexer": "ipython3",
   "version": "3.7.0"
  }
 },
 "nbformat": 4,
 "nbformat_minor": 0
}
